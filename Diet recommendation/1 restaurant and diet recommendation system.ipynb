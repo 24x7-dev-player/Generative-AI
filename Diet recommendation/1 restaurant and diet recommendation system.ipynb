{
 "cells": [
  {
   "cell_type": "code",
   "execution_count": 55,
   "id": "6181f863",
   "metadata": {},
   "outputs": [
    {
     "name": "stdout",
     "output_type": "stream",
     "text": [
      "\n",
      "\n",
      "Restaurants:\n",
      "1. Green Leaf Cafe\n",
      "2. The Organic Kitchen\n",
      "3. Veggie Delight\n",
      "4. Fresh Harvest\n",
      "5. The Garden Bistro\n",
      "6. Blissful Bowl\n",
      "\n",
      "Breakfast:\n",
      "1. Fruit Smoothie Bowl\n",
      "2. Avocado Toast\n",
      "3. Quinoa Breakfast Bowl\n",
      "4. Veggie Omelette\n",
      "5. Overnight Oats\n",
      "6. Fresh Fruit Parfait\n",
      "\n",
      "Dinner:\n",
      "1. Lentil Dal with Brown Rice\n",
      "2. Tofu Stir-Fry\n",
      "3. Roasted Vegetable Quinoa Bowl\n",
      "4. Sweet Potato and Black Bean Tacos\n",
      "5. Grilled Vegetable Skewers\n",
      "6. Chickpea Curry with Naan Bread\n",
      "\n",
      "Workouts:\n",
      "1. Yoga Flow\n",
      "2. HIIT Circuit Training\n",
      "3. Pilates Mat Workout\n",
      "4. Bodyweight Strength Training\n",
      "5. Cycling Class\n",
      "6. Jump Rope Cardio Workout\n"
     ]
    }
   ],
   "source": [
    "import os\n",
    "import re\n",
    "os.environ['OPENAI_API_KEY'] = 'nananannana'  # openai\n",
    "\n",
    "from langchain.prompts import PromptTemplate\n",
    "from langchain.chains import LLMChain\n",
    "from langchain_openai import OpenAI\n",
    "\n",
    "llm_resto = OpenAI( temperature=0.6)\n",
    "\n",
    "\n",
    "prompt_template_resto = PromptTemplate(\n",
    "    input_variables=['age', 'gender', 'weight', 'height', 'veg_or_nonveg', 'disease', 'region', 'allergics', 'foodtype'],\n",
    "    template=\"Diet Recommendation System:\\n\"\n",
    "             \"I want you to recommend 6 restaurants names, 6 breakfast names, 5 dinner names, and 6 workout names, \"\n",
    "             \"based on the following criteria:\\n\"\n",
    "             \"Person age: {age}\\n\"\n",
    "             \"Person gender: {gender}\\n\"\n",
    "             \"Person weight: {weight}\\n\"\n",
    "             \"Person height: {height}\\n\"\n",
    "             \"Person veg_or_nonveg: {veg_or_nonveg}\\n\"\n",
    "             \"Person generic disease: {disease}\\n\"\n",
    "             \"Person region: {region}\\n\"\n",
    "             \"Person allergics: {allergics}\\n\"\n",
    "             \"Person foodtype: {foodtype}.\"\n",
    "             \"Include only the names, not descriptions.\"\n",
    ")\n",
    "\n",
    "chain_resto = LLMChain(llm=llm_resto, prompt=prompt_template_resto)\n",
    "\n",
    "# Define the input dictionary\n",
    "input_data = {\n",
    "    'age': 23,\n",
    "    'gender': 'male',\n",
    "    'weight': 90,\n",
    "    'height': 5,\n",
    "    'veg_or_nonveg': 'veg',\n",
    "    'disease': 'Anemia',\n",
    "    'region': 'India',\n",
    "    'allergics': 'Eczema Allergy',\n",
    "    'foodtype': 'Fruits'\n",
    "}\n",
    "results = chain_resto.invoke(input_data)\n",
    "\n",
    "# Ensure results is a string\n",
    "if isinstance(results, dict) and 'text' in results:\n",
    "    results = results['text']\n",
    "elif not isinstance(results, str):\n",
    "    raise TypeError(\"Expected the result to be a string or dictionary containing 'text' key.\")\n",
    "\n",
    "print(results)"
   ]
  },
  {
   "cell_type": "code",
   "execution_count": 58,
   "id": "134df9bf",
   "metadata": {},
   "outputs": [
    {
     "name": "stdout",
     "output_type": "stream",
     "text": [
      "Recommended Restaurants: ['1. 1. Green Leaf Cafe', '2. 2. The Organic Kitchen', '3. 3. Veggie Delight', '4. 4. Fresh Harvest', '5. 5. The Garden Bistro', '6. 6. Blissful Bowl']\n",
      "Recommended Breakfasts: ['1. 1. Fruit Smoothie Bowl', '2. 2. Avocado Toast', '3. 3. Quinoa Breakfast Bowl', '4. 4. Veggie Omelette', '5. 5. Overnight Oats', '6. 6. Fresh Fruit Parfait']\n",
      "Recommended Dinners: ['1. 1. Lentil Dal with Brown Rice', '2. 2. Tofu Stir-Fry', '3. 3. Roasted Vegetable Quinoa Bowl', '4. 4. Sweet Potato and Black Bean Tacos', '5. 5. Grilled Vegetable Skewers', '6. 6. Chickpea Curry with Naan Bread']\n",
      "Recommended Workouts: ['1. 1. Yoga Flow', '2. 2. HIIT Circuit Training', '3. 3. Pilates Mat Workout', '4. 4. Bodyweight Strength Training', '5. 5. Cycling Class', '6. 6. Jump Rope Cardio Workout']\n"
     ]
    }
   ],
   "source": [
    "# Extracting the different recommendations using regular expressions\n",
    "restaurant_names = re.findall(r'Restaurants:(.*?)(?:Breakfast:|Dinner:|Workouts:|$)', results, re.DOTALL)\n",
    "breakfast_names = re.findall(r'Breakfast:(.*?)(?:Dinner:|Workouts:|$)', results, re.DOTALL)\n",
    "dinner_names = re.findall(r'Dinner:(.*?)(?:Workouts:|$)', results, re.DOTALL)\n",
    "workout_names = re.findall(r'Workouts:(.*?)$', results, re.DOTALL)\n",
    "\n",
    "# Cleaning up the extracted lists\n",
    "restaurant_names = [name.strip() for name in restaurant_names[0].strip().split('\\n') if name.strip()] if restaurant_names else []\n",
    "breakfast_names = [name.strip() for name in breakfast_names[0].strip().split('\\n') if name.strip()] if breakfast_names else []\n",
    "dinner_names = [name.strip() for name in dinner_names[0].strip().split('\\n') if name.strip()] if dinner_names else []\n",
    "workout_names = [name.strip() for name in workout_names[0].strip().split('\\n') if name.strip()] if workout_names else []\n",
    "\n",
    "# Customize the names format\n",
    "restaurant_names = [f\"{i+1}. {name}\" for i, name in enumerate(restaurant_names)]\n",
    "breakfast_names = [f\"{i+1}. {name}\" for i, name in enumerate(breakfast_names)]\n",
    "dinner_names = [f\"{i+1}. {name}\" for i, name in enumerate(dinner_names)]\n",
    "workout_names = [f\"{i+1}. {name}\" for i, name in enumerate(workout_names)]\n",
    "\n",
    "print(\"Recommended Restaurants:\", restaurant_names)\n",
    "print(\"Recommended Breakfasts:\", breakfast_names)\n",
    "print(\"Recommended Dinners:\", dinner_names)\n",
    "print(\"Recommended Workouts:\", workout_names)"
   ]
  },
  {
   "cell_type": "code",
   "execution_count": 59,
   "id": "5946e95e",
   "metadata": {},
   "outputs": [
    {
     "name": "stdout",
     "output_type": "stream",
     "text": [
      "Recommended Workouts: ['1. 1. Yoga Flow', '2. 2. HIIT Circuit Training', '3. 3. Pilates Mat Workout', '4. 4. Bodyweight Strength Training', '5. 5. Cycling Class', '6. 6. Jump Rope Cardio Workout']\n"
     ]
    }
   ],
   "source": [
    "print(\"Recommended Workouts:\", workout_names)"
   ]
  },
  {
   "cell_type": "code",
   "execution_count": null,
   "id": "b85c5f42",
   "metadata": {},
   "outputs": [],
   "source": []
  }
 ],
 "metadata": {
  "kernelspec": {
   "display_name": "Python 3 (ipykernel)",
   "language": "python",
   "name": "python3"
  },
  "language_info": {
   "codemirror_mode": {
    "name": "ipython",
    "version": 3
   },
   "file_extension": ".py",
   "mimetype": "text/x-python",
   "name": "python",
   "nbconvert_exporter": "python",
   "pygments_lexer": "ipython3",
   "version": "3.10.14"
  }
 },
 "nbformat": 4,
 "nbformat_minor": 5
}
