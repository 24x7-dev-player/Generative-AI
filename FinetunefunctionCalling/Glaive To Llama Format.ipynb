{
 "cells": [
  {
   "cell_type": "code",
   "execution_count": 4,
   "metadata": {},
   "outputs": [],
   "source": [
    "import json\n",
    "import re\n",
    "\n",
    "# Load the Glaive dataset\n",
    "with open('glaive_function_calling.json', 'r') as f:\n",
    "    glaive_data = json.load(f)"
   ]
  },
  {
   "cell_type": "code",
   "execution_count": 5,
   "metadata": {},
   "outputs": [],
   "source": [
    "# Initialize the LLaMA 2 dataset\n",
    "llama_data = []\n",
    "\n",
    "# Function to convert Glaive format to LLaMA 2 format\n",
    "def convert_to_llama2(sample):\n",
    "    # Extract the system prompt and interactions\n",
    "    system_prompt_match = re.search(r'SYSTEM: (.*?)USER:', sample, re.DOTALL)\n",
    "    if system_prompt_match:\n",
    "        system_prompt = system_prompt_match.group(1).strip()\n",
    "    else:\n",
    "        raise ValueError(\"System prompt not found in the sample\")\n",
    "    \n",
    "    # Replace function calls and responses\n",
    "    sample = re.sub(r'ASSISTANT: <functioncall> .*?FUNCTION RESPONSE: ', 'ASSISTANT: ', sample)\n",
    "    \n",
    "    # Remove the initial SYSTEM: and leading spaces\n",
    "    sample = re.sub(r'^SYSTEM: ', '', sample).strip()\n",
    "    \n",
    "    # Construct the LLaMA 2 format entry\n",
    "    llama_sample = f\"<s>[INST]<<SYS>>\\n{system_prompt}\\n<</SYS>>\\n{sample}\\n</s>\"\n",
    "    \n",
    "    return llama_sample"
   ]
  },
  {
   "cell_type": "code",
   "execution_count": 6,
   "metadata": {},
   "outputs": [],
   "source": [
    "# Transform the dataset\n",
    "for entry in glaive_data:\n",
    "    sample = entry[\"sample\"]\n",
    "    llama_sample = convert_to_llama2(sample)\n",
    "    llama_data.append(llama_sample)"
   ]
  },
  {
   "cell_type": "code",
   "execution_count": 7,
   "metadata": {},
   "outputs": [
    {
     "name": "stdout",
     "output_type": "stream",
     "text": [
      "Transformation complete. The dataset has been saved to 'llama2_dataset.json'.\n"
     ]
    }
   ],
   "source": [
    "# Save the transformed dataset\n",
    "with open('llama2glaive_datasetv2.json', 'w') as f:\n",
    "    json.dump(llama_data, f, indent=4)\n",
    "\n",
    "print(\"Transformation complete. The dataset has been saved to 'llama2_dataset.json'.\")"
   ]
  },
  {
   "cell_type": "code",
   "execution_count": 8,
   "metadata": {},
   "outputs": [],
   "source": [
    "import json\n",
    "\n",
    "# Load the JSON file\n",
    "with open('llama2glaive_datasetv2.json', 'r') as file:\n",
    "    data = json.load(file)\n",
    "\n",
    "# Get the first 500 rows\n",
    "selected_rows = data[:500]\n",
    "\n",
    "# Write the selected rows to a new file\n",
    "with open('Selected500v4.json', 'w') as file:\n",
    "    json.dump(selected_rows, file, indent=4)\n"
   ]
  },
  {
   "cell_type": "code",
   "execution_count": null,
   "metadata": {},
   "outputs": [],
   "source": []
  }
 ],
 "metadata": {
  "kernelspec": {
   "display_name": "python10",
   "language": "python",
   "name": "python3"
  },
  "language_info": {
   "codemirror_mode": {
    "name": "ipython",
    "version": 3
   },
   "file_extension": ".py",
   "mimetype": "text/x-python",
   "name": "python",
   "nbconvert_exporter": "python",
   "pygments_lexer": "ipython3",
   "version": "3.10.14"
  }
 },
 "nbformat": 4,
 "nbformat_minor": 2
}
